{
 "cells": [
  {
   "cell_type": "code",
   "execution_count": null,
   "id": "e83f044d",
   "metadata": {},
   "outputs": [],
   "source": [
    "# pinecone 데이터 임베딩\n",
    "embedding = OpenAIEmbeddings(model=\"text-embedding-3-large\")\n",
    "# pinecone index 데이터 로드\n",
    "index_name = 'tax-index'\n",
    "# 기존에 있는 데이터를 뽑아오는 작업\n",
    "vectorstore=PineconeVectorStore.from_existing_index(\n",
    "    index_name=index_name,\n",
    "    embedding=embedding,\n",
    ")\n",
    "# llm 셋팅\n",
    "llm=ChatOpenAI(model='gpt-5')\n",
    "# prompt 셋팅\n",
    "prompt = hub.pull(\"rlm/rag-prompt\")     # 허깅페이스에서 제공해줌\n",
    "# retriever 셋팅\n",
    "retriever=vectorstore.as_retriever(search_kwargs={'k':3})\n",
    "# llm, prompt, retriever 체이닝 단계\n",
    "qa_chain=RetrievalQA.from_chain_type(\n",
    "    llm=llm,\n",
    "    retriever=retriever,\n",
    "    chain_type_kwargs={\"prompt\":prompt},\n",
    ")\n",
    "# 한번더 필터링 작업 후 체이닝\n",
    "dictionary = [\"사람을 나타내는 표현 -> 거주자\"]\n",
    "prompt2 = ChatPromptTemplate.from_template(f\"\"\"\n",
    "사용자의 질문을 보고, 우리의 사전을 참고해서 사용자의 질문을 변경해주세요.\n",
    "만약 변경이 필요없을 경우, 사용자의 질문을 변경하지 않아도 됩니다.\n",
    "사전:{dictionary}\n",
    "질문:{{question}}\n",
    "\"\"\")\n",
    "dictionary_chain = prompt2 | llm | StrOutputParser()\n",
    "tex_chain = {\"query\": dictionary_chain} | qa_chain"
   ]
  },
  {
   "cell_type": "code",
   "execution_count": 5,
   "id": "7f689739",
   "metadata": {},
   "outputs": [],
   "source": [
    "# query=\"연봉 5천만원 거주자의 종합소득세는 얼마인가요? 결과만 주시죠\"\n",
    "query=\"연봉 5천만원 직장인 소득세는 얼마인가?\""
   ]
  },
  {
   "cell_type": "code",
   "execution_count": 10,
   "id": "0f741bd5",
   "metadata": {},
   "outputs": [
    {
     "data": {
      "text/plain": [
       "{'query': '연봉 5천만원 직장인 소득세는 얼마인가?',\n",
       " 'result': '과세표준이 5,000만원일 경우 산출소득세는 624만원입니다(= 84만원 + (5,000–1,400)만원×15%). 다만 연봉 5,000만원의 실제 소득세는 근로소득공제·인적공제·세액공제 반영 후의 과세표준에 따라 달라져 보통 이보다 낮습니다. 참고로 지방소득세(소득세의 10%)는 별도입니다.'}"
      ]
     },
     "execution_count": 10,
     "metadata": {},
     "output_type": "execute_result"
    }
   ],
   "source": [
    "ai_message=qa_chain.invoke({\"query\":query})\n",
    "ai_message"
   ]
  },
  {
   "cell_type": "code",
   "execution_count": null,
   "id": "ba6bfec0",
   "metadata": {},
   "outputs": [],
   "source": []
  },
  {
   "cell_type": "code",
   "execution_count": 12,
   "id": "e51a861d",
   "metadata": {},
   "outputs": [
    {
     "data": {
      "text/plain": [
       "'연봉 5천만원 거주자의 소득세는 얼마인가?'"
      ]
     },
     "execution_count": 12,
     "metadata": {},
     "output_type": "execute_result"
    }
   ],
   "source": [
    "new_question=dictionary_chain.invoke({\"question\":query})\n",
    "new_question"
   ]
  },
  {
   "cell_type": "code",
   "execution_count": 13,
   "id": "44aba32b",
   "metadata": {},
   "outputs": [
    {
     "data": {
      "text/plain": [
       "{'query': '연봉 5천만원인 거주자의 소득세는 얼마인가?',\n",
       " 'result': '과세표준이 연봉과 같다고 가정하면, 84만원 + (5,000만원−1,400만원)×15% = 624만원입니다. 실제로는 연봉이 곧 과세표준이 아니므로 각종 공제·비과세 적용에 따라 세액이 달라질 수 있습니다.'}"
      ]
     },
     "execution_count": 13,
     "metadata": {},
     "output_type": "execute_result"
    }
   ],
   "source": [
    "ai_message=tex_chain.invoke({\"question\":query})\n",
    "ai_message"
   ]
  },
  {
   "cell_type": "code",
   "execution_count": null,
   "id": "06ed1b75",
   "metadata": {},
   "outputs": [],
   "source": []
  },
  {
   "cell_type": "code",
   "execution_count": null,
   "id": "bafef172",
   "metadata": {},
   "outputs": [],
   "source": []
  }
 ],
 "metadata": {
  "kernelspec": {
   "display_name": "taxenv",
   "language": "python",
   "name": "python3"
  },
  "language_info": {
   "codemirror_mode": {
    "name": "ipython",
    "version": 3
   },
   "file_extension": ".py",
   "mimetype": "text/x-python",
   "name": "python",
   "nbconvert_exporter": "python",
   "pygments_lexer": "ipython3",
   "version": "3.11.9"
  }
 },
 "nbformat": 4,
 "nbformat_minor": 5
}
